{
 "cells": [
  {
   "cell_type": "code",
   "execution_count": 8,
   "metadata": {},
   "outputs": [],
   "source": [
    "import sys\n",
    "import numpy as np\n",
    "from pylab import *\n",
    "from scipy import *\n",
    "import matplotlib.pyplot as plt\n",
    "# Specific imports\n",
    "from scipy.interpolate import griddata\n",
    "from mpl_toolkits.mplot3d.axes3d import Axes3D\n",
    "import pandas as pd\n",
    "import csv"
   ]
  },
  {
   "cell_type": "markdown",
   "metadata": {},
   "source": [
    "Bifurcation diagram"
   ]
  },
  {
   "cell_type": "code",
   "execution_count": 2,
   "metadata": {},
   "outputs": [],
   "source": [
    "bT = pd.read_table(\"b.mu\", skiprows=17, sep='\\\\s+', header=None)\n",
    "bT = bT.apply(pd.to_numeric, errors='coerce')"
   ]
  },
  {
   "cell_type": "markdown",
   "metadata": {},
   "source": [
    "Plotting solution from s.XXX file"
   ]
  },
  {
   "cell_type": "code",
   "execution_count": 3,
   "metadata": {},
   "outputs": [],
   "source": [
    "fl = pd.read_table(\"s.mu\", nrows=0, sep='\\\\s+')\n",
    "lst = list(fl)\n",
    "con = [float(x) for x in lst]\n",
    "con = [int(x) for x in con]\n",
    "ibr = int(con[0]) #the index of the branch\n",
    "ntot = con[1] #the index of the point\n",
    "itp = con[2] #the type of point\n",
    "lab = con[3] #the label of the point\n",
    "nfpr = con[4] #the number of free parameters used in the computation\n",
    "isw = con[5] #the value of isw used in the computation\n",
    "ntpl = con[6] #the number of points in the time interval [0,1]\n",
    "nar = con[7] #the number of values written per point\n",
    "nrowpr = con[8] #the number of lines printed following the identifying line\n",
    "ntst = con[9] #the number of time intervals used in the discretization\n",
    "ncol = con[10] #the number of collocation points used\n",
    "nparx = con[11] #the dimension of the array par"
   ]
  },
  {
   "cell_type": "code",
   "execution_count": 4,
   "metadata": {
    "scrolled": true
   },
   "outputs": [],
   "source": [
    "n = 100\n",
    "array_points = [10, 50, 100, 200, 400, 600, 1000, 1500, 2000, 2500, 3000]\n",
    "ii = 0\n",
    "xval = []\n",
    "yval = []\n",
    "index_boundary_layer = []\n",
    "\n",
    "for ind in array_points:\n",
    "    linewidth = 1.0\n",
    "    linestyle = \"-\"\n",
    "    df1 = pd.read_csv(\"s.mu\", header=None, skiprows=ind*nrowpr+ind+1, nrows=ntpl-1, sep='\\\\s+')\n",
    "    ii += 1\n",
    "    \n",
    "    gval = int(np.round(bT[4].tolist()[ind]))\n",
    "    renorm = (gval/300)**(1/3)\n",
    "    for j in range(1,int(len(df1[2].tolist())/2)):\n",
    "        if np.abs((df1[2].tolist())[j]) <  0.25 * np.abs((df1[2].tolist())[0]):\n",
    "            index_boundary_layer.append(j)\n",
    "            xval.append(int(np.round(bT[4].tolist()[ind])))\n",
    "            yval.append((df1[5].tolist())[j])\n",
    "            break"
   ]
  },
  {
   "cell_type": "code",
   "execution_count": 5,
   "metadata": {},
   "outputs": [
    {
     "data": {
      "image/png": "[encoded data removed]",
      "text/plain": [
       "<Figure size 377.953x275.591 with 3 Axes>"
      ]
     },
     "metadata": {},
     "output_type": "display_data"
    }
   ],
   "source": [
    "mpl.rcParams.update(mpl.rcParamsDefault)\n",
    "plt.rc(\"font\", family=\"Roboto Condensed\")\n",
    "plt.rc(\"xtick\", labelsize=\"large\")\n",
    "plt.rc(\"ytick\", labelsize=\"large\")\n",
    "params = {'text.usetex': True, 'text.latex.preamble': r'\\usepackage{amsmath}', 'text.latex.preamble': r'\\usepackage{bm}'}\n",
    "plt.rcParams.update(params)\n",
    "\n",
    "axis_label_size = 10\n",
    "tick_size = 8\n",
    "legend_size = 7\n",
    "line_thickness = 1.0\n",
    "\n",
    "\n",
    "fig = plt.figure(figsize = (9.6/2.54,7/2.54))\n",
    "gs = GridSpec(2,2)\n",
    "ax1 = fig.add_subplot(gs[:,0])\n",
    "ax2 = fig.add_subplot(gs[0,1])\n",
    "ax3 = fig.add_subplot(gs[1,1])\n",
    "\n",
    "ax1.set_aspect(0.75)\n",
    "ax1.set_xlim([-0.2,0])\n",
    "ax1.set_ylim([0,1.025])\n",
    "legend_array = []\n",
    "array_points = [10, 50, 100, 200, 400, 600]\n",
    "\n",
    "ii = 0\n",
    "for ind in array_points:\n",
    "    gval = int(np.round(bT[4].tolist()[ind]))\n",
    "    renorm = (gval/300)**(1/3)\n",
    "    df = pd.read_csv(\"s.mu\", header=None, skiprows=ind*nrowpr+ind+1, nrows=ntpl-1, sep='\\\\s+')\n",
    "    ax1.plot(np.array(df[3].tolist())*renorm,np.array(df[4].tolist())*renorm, color = \"brown\", alpha = (ii+1)/(np.size(array_points)+1),clip_on=False,zorder=ind,linewidth=line_thickness)\n",
    "    legend_array.append(str(gval))\n",
    "    ii += 1\n",
    "    \n",
    "array_points = [50, 100, 200, 400, 600]\n",
    "xval_bl = []\n",
    "yval_bl = []\n",
    "ii = 0\n",
    "for ind in array_points:\n",
    "    gval = int(np.round(bT[4].tolist()[ind]))\n",
    "    renorm = (gval/300)**(1/3)\n",
    "    df = pd.read_csv(\"s.mu\", header=None, skiprows=ind*nrowpr+ind+1, nrows=ntpl-1, sep='\\\\s+')\n",
    "    xval_bl.append(np.array(df[3].tolist())[index_boundary_layer[ii]]*renorm)\n",
    "    yval_bl.append(np.array(df[4].tolist())[index_boundary_layer[ii]]*renorm)\n",
    "    ii+1\n",
    "ax1.plot(xval_bl,yval_bl, color = \"orange\",linewidth=line_thickness, zorder=1000)\n",
    "ax1.legend(legend_array, fontsize=legend_size,loc='lower right', handlelength=1)\n",
    "ax1.set_xlabel(r'$x(s)$', usetex=True, fontsize=axis_label_size)\n",
    "ax1.set_ylabel(r\"$y(s)$\", usetex=True, rotation=0, fontsize=axis_label_size)\n",
    "ax1.yaxis.set_label_coords(-0.6, 0.44)\n",
    "ax1.tick_params(axis='both', labelsize=tick_size)\n",
    "ax1.spines[\"right\"].set_visible(False)\n",
    "ax1.spines[\"top\"].set_visible(False)\n",
    "ax1.text(0.5, 0.5, r'(a)', transform=ax1.transAxes,fontsize=axis_label_size)\n",
    "\n",
    "array_points = [10, 50, 100, 200, 400, 600]\n",
    "\n",
    "ax2.set_xlim([0.0,1.0])\n",
    "legend_array_2 = []\n",
    "ii = 0\n",
    "for ind in array_points:\n",
    "    linewidth = 1.0\n",
    "    linestyle = \"-\"\n",
    "    invkappa0 = 0.029\n",
    "    df1 = pd.read_csv(\"s.mu\", header=None, skiprows=ind*nrowpr+ind+1, nrows=ntpl-1, sep='\\\\s+')\n",
    "    ax2.plot(df1[5].tolist(), np.array(df1[2].tolist())*invkappa0, clip_on=False, color = \"blue\", alpha = (ii+1)/(np.size(array_points)+1), linewidth=line_thickness)\n",
    "    if ii == 0:\n",
    "        legend_array_2.append(r'$\\mathcal{G} = $ ' + str(int(np.round(bT[4].tolist()[ind]))))\n",
    "    else:\n",
    "        legend_array_2.append(str(int(np.round(bT[4].tolist()[ind]))))\n",
    "    ii += 1  \n",
    "\n",
    "ax2.set_xlabel(r'$s$', usetex=True, fontsize=axis_label_size)\n",
    "ax2.set_ylabel(r\"$\\kappa(s)$\", usetex=True, rotation=0, fontsize=axis_label_size)\n",
    "ax2.yaxis.set_label_coords(-0.25,0.4)\n",
    "ax2.legend(legend_array_2, fontsize=legend_size,loc='lower right',ncol=2, handlelength=1)\n",
    "ax2.spines[\"right\"].set_visible(False)\n",
    "ax2.spines[\"top\"].set_visible(False)\n",
    "ax2.set_xlabel(r'$s/l$', usetex=True, fontsize=axis_label_size)\n",
    "ax2.set_ylabel(r'$\\frac{\\kappa}{\\kappa_0}$', usetex=True, rotation=0, fontsize=1.2*axis_label_size)\n",
    "ax2.axhline(0, color=\"0.5\", linewidth=0.5)\n",
    "ax2.tick_params(axis='both', which='major', labelsize=tick_size)\n",
    "ax2.text(0.5, 0.5, r'(b)', transform=ax2.transAxes,fontsize=axis_label_size)\n",
    "\n",
    "ax3.scatter(xval,yval, color = 'orange', s = 3)\n",
    "xvalana = np.linspace(25,2500)#750)\n",
    "ax3.plot(xvalana, 1.55*(np.array(xvalana)**(-1/2)), color = 'green', linewidth=line_thickness, alpha = 0.9)\n",
    "ax3.set_yscale('log')\n",
    "ax3.set_xscale('log')\n",
    "ax3.set_xlabel(r'$\\mathcal{G}$', usetex=True, fontsize=25)\n",
    "ax3.set_ylabel(r\"$\\delta$\", usetex=True, rotation=0, fontsize=25)\n",
    "ax3.legend(['_No', r'$1.6 \\,\\mathcal{G}^{-1/2}$'], fontsize=legend_size,loc='upper right', handlelength=1)\n",
    "ax3.set_xlabel(r'$\\mathcal{G}$', usetex=True, fontsize=axis_label_size)\n",
    "ax3.set_ylabel(r'$\\delta$', usetex=True, fontsize=axis_label_size, rotation = 0)\n",
    "ax2.yaxis.set_label_coords(-0.25,0.4)\n",
    "ax3.set_yticks([0.05, 0.1, 0.2])\n",
    "ax3.get_yaxis().set_major_formatter(matplotlib.ticker.ScalarFormatter())\n",
    "ax3.tick_params(axis='both', which = 'both',labelsize=tick_size)\n",
    "ax3.spines[\"right\"].set_visible(False)\n",
    "ax3.spines[\"top\"].set_visible(False)\n",
    "ax3.text(0.5, 0.5, r'(c)', transform=ax3.transAxes,fontsize=axis_label_size)\n",
    "\n",
    "plt.tight_layout()\n",
    "plt.savefig(\"combined_scatter.svg\",transparent=True) \n",
    "plt.show()"
   ]
  },
  {
   "cell_type": "code",
   "execution_count": 6,
   "metadata": {},
   "outputs": [
    {
     "data": {
      "image/png": "[encoded data removed]",
      "text/plain": [
       "<Figure size 1000x600 with 2 Axes>"
      ]
     },
     "metadata": {},
     "output_type": "display_data"
    }
   ],
   "source": [
    "import matplotlib.cm as cm\n",
    "import matplotlib.pyplot as plt\n",
    "import matplotlib.colors as colors\n",
    "\n",
    "mpl.rcParams.update(mpl.rcParamsDefault)\n",
    "plt.rc(\"font\", family=\"Roboto Condensed\")\n",
    "plt.rc(\"xtick\", labelsize=\"large\")\n",
    "plt.rc(\"ytick\", labelsize=\"large\")\n",
    "params = {'text.usetex': True, 'text.latex.preamble': r'\\usepackage{amsmath}', 'text.latex.preamble': r'\\usepackage{bm}'}\n",
    "plt.rcParams.update(params)\n",
    "\n",
    "def truncated_colormap(cmap, minval=0.0, maxval=1.0, n=100):\n",
    "    new_cmap = colors.LinearSegmentedColormap.from_list(\n",
    "        'trunc({n},{a:.2f},{b:.2f})'.format(n=cmap.name, a=minval, b=maxval),\n",
    "        cmap(np.linspace(minval, maxval, n)))\n",
    "    return new_cmap\n",
    "\n",
    "cmap = plt.get_cmap('spring_r')\n",
    "n_Reds = truncated_colormap(cmap,0.2,1)\n",
    "\n",
    "def plot_colourline(x,y,c):\n",
    "    col = n_Reds((c-np.min(c))/(np.max(c)-np.min(c)))\n",
    "    ax = plt.gca()\n",
    "    for i in np.arange(len(x)-1):\n",
    "        ax.plot([x[i],x[i+1]], [y[i],y[i+1]], c=col[i],linewidth=2*line_thickness)\n",
    "    im = ax.scatter(x, y, c=c, s=0, cmap=n_Reds)\n",
    "    return im\n",
    "\n",
    "df = pd.read_csv(\"s.mu\", header=None, skiprows=600*nrowpr+600+1, nrows=ntpl-1, sep='\\\\s+')\n",
    "invkappa0 = 0.029\n",
    "\n",
    "fig = plt.figure(1, figsize=(10,6))\n",
    "ax  = fig.add_subplot(111)\n",
    "ax.set_aspect(0.75)\n",
    "ax.set_xlim([-0.2,0])\n",
    "ax.set_ylim([-0.01,1.025])\n",
    "x = np.array(df[3].tolist())*renorm\n",
    "y = np.array(df[4].tolist())*renorm\n",
    "z = np.abs(np.array(df1[2].tolist())*invkappa0)\n",
    "im = plot_colourline(x,y,z/np.max(z))\n",
    "fig.colorbar(im)\n",
    "plt.axis('off')\n",
    "plt.tight_layout()\n",
    "plt.savefig(\"colored_snake.svg\",dpi=600)\n",
    "plt.show()"
   ]
  },
  {
   "cell_type": "code",
   "execution_count": null,
   "metadata": {},
   "outputs": [],
   "source": []
  }
 ],
 "metadata": {
  "kernelspec": {
   "display_name": "Python 3 (ipykernel)",
   "language": "python",
   "name": "python3"
  },
  "language_info": {
   "codemirror_mode": {
    "name": "ipython",
    "version": 3
   },
   "file_extension": ".py",
   "mimetype": "text/x-python",
   "name": "python",
   "nbconvert_exporter": "python",
   "pygments_lexer": "ipython3",
   "version": "3.13.2"
  }
 },
 "nbformat": 4,
 "nbformat_minor": 4
}
